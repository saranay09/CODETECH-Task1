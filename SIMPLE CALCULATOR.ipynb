{
 "cells": [
  {
   "cell_type": "code",
   "execution_count": 10,
   "id": "1794c364",
   "metadata": {},
   "outputs": [
    {
     "name": "stdout",
     "output_type": "stream",
     "text": [
      "Enter the first number: 44\n",
      "Enter the second number: 55\n",
      "\n",
      "Choose an operation:\n",
      "|+| -> addition\n",
      "|-| -> subtraction\n",
      "|*| -> multiplication\n",
      "|/| -> division\n",
      "Enter your choice: =\n",
      "Invalid input. Please choose a valid operation.\n",
      "\n",
      "Choose an operation:\n",
      "|+| -> addition\n",
      "|-| -> subtraction\n",
      "|*| -> multiplication\n",
      "|/| -> division\n",
      "Enter your choice: +\n",
      "The result of 44.0 + 55.0 is 99.0\n"
     ]
    }
   ],
   "source": [
    "\"\"\"\n",
    "Create a Python program that acts as a basic calculator. It should prompt the user to enter two numbers and choose an operation (addition, subtraction, multiplication,\n",
    "division). Then, it should perform the selected operation and display the result to the user.\n",
    "\n",
    "\"\"\"\n",
    "def calculate():\n",
    "  # Get user input for the first number\n",
    "  while True:\n",
    "    try:\n",
    "      num1 = float(input(\"Enter the first number: \"))\n",
    "      break\n",
    "    except ValueError:\n",
    "      print(\"Invalid input. Please enter a number.\")\n",
    "\n",
    "  # Get user input for the second number\n",
    "  while True:\n",
    "    try:\n",
    "      num2 = float(input(\"Enter the second number: \"))\n",
    "      break\n",
    "    except ValueError:\n",
    "      print(\"Invalid input. Please enter a number.\")\n",
    "\n",
    "  # Get user input for the operation\n",
    "  while True:\n",
    "    operation = input('''\n",
    "Choose an operation:\n",
    "|+| -> addition\n",
    "|-| -> subtraction\n",
    "|*| -> multiplication\n",
    "|/| -> division\n",
    "Enter your choice: ''').strip()\n",
    "\n",
    "    if operation in ['+', '-', '*', '/']:\n",
    "      break\n",
    "    else:\n",
    "      print(\"Invalid input. Please choose a valid operation.\")\n",
    "\n",
    "  # Perform the operation and display the result\n",
    "  if operation == \"+\":\n",
    "    result = num1 + num2\n",
    "  elif operation == \"-\":\n",
    "    result = num1 - num2\n",
    "  elif operation == \"*\":\n",
    "    result = num1 * num2\n",
    "  else:\n",
    "    # Handle division by zero\n",
    "    if num2 == 0:\n",
    "      print(\"Error: Cannot divide by zero.\")\n",
    "    else:\n",
    "      result = num1 / num2\n",
    "\n",
    "  print(f\"The result of {num1} {operation} {num2} is {result}\")\n",
    "\n",
    "# Run the calculator function\n",
    "calculate()\n"
   ]
  },
  {
   "cell_type": "code",
   "execution_count": 6,
   "id": "3e96cae9",
   "metadata": {},
   "outputs": [],
   "source": []
  },
  {
   "cell_type": "code",
   "execution_count": 7,
   "id": "597b1c99",
   "metadata": {},
   "outputs": [],
   "source": []
  },
  {
   "cell_type": "code",
   "execution_count": 8,
   "id": "2dd101a0",
   "metadata": {},
   "outputs": [],
   "source": []
  },
  {
   "cell_type": "code",
   "execution_count": 9,
   "id": "5257cf7a",
   "metadata": {},
   "outputs": [],
   "source": []
  },
  {
   "cell_type": "code",
   "execution_count": null,
   "id": "30fffc7a",
   "metadata": {},
   "outputs": [],
   "source": []
  }
 ],
 "metadata": {
  "kernelspec": {
   "display_name": "Python 3 (ipykernel)",
   "language": "python",
   "name": "python3"
  },
  "language_info": {
   "codemirror_mode": {
    "name": "ipython",
    "version": 3
   },
   "file_extension": ".py",
   "mimetype": "text/x-python",
   "name": "python",
   "nbconvert_exporter": "python",
   "pygments_lexer": "ipython3",
   "version": "3.11.4"
  }
 },
 "nbformat": 4,
 "nbformat_minor": 5
}
